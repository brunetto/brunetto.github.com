{
 "metadata": {
  "name": ""
 },
 "nbformat": 3,
 "nbformat_minor": 0,
 "worksheets": [
  {
   "cells": [
    {
     "cell_type": "markdown",
     "metadata": {},
     "source": [
      "Trying to compute the hardness of the binaries and the hard/soft transition.\n",
      "The hard/soft transition is when\n",
      "$$\\frac{Gm_1m_2}{2a}=\\frac{1}{2}\\langle m\\rangle\\sigma^2$$"
     ]
    },
    {
     "cell_type": "markdown",
     "metadata": {},
     "source": [
      "if we substitute\n",
      "\n",
      "* $\\langle m \\rangle = 1 M_{\\odot} = (1.98855 \u00b1 0.00025)\\times 10^{30}kg \\sim 2\\times 10^{30} kg$\n",
      "* $\\sigma\\sim 10 km/s = 10000 m/s$\n",
      "* $a\\sim 10^6 AU = 149.6\\times10^6 km = 150\\times10^6 m$\n",
      "* $G = 6.67384(80) \\times 10^{-11} \\ \\mbox{m}^3 \\ \\mbox{kg}^{-1} \\ \\mbox{s}^{-2} = 6.67384(80) \\times 10^{-11} \\ {\\rm N}\\, {\\rm (m/kg)^2}$"
     ]
    },
    {
     "cell_type": "code",
     "collapsed": false,
     "input": [
      "m = 2 * 10**30\n",
      "sigma = 10000\n",
      "a = 150 * 10**6\n",
      "G = 6.67 * 10**(-11)\n",
      "E1 = 0.5 * m * sigma**2"
     ],
     "language": "python",
     "metadata": {},
     "outputs": [],
     "prompt_number": 1
    },
    {
     "cell_type": "code",
     "collapsed": false,
     "input": [
      "print E1, \" J, that traslates into \", E1 * 10**7, \" erg\""
     ],
     "language": "python",
     "metadata": {},
     "outputs": [
      {
       "output_type": "stream",
       "stream": "stdout",
       "text": [
        "1e+38  J, that traslates into  1e+45  erg\n"
       ]
      }
     ],
     "prompt_number": 2
    },
    {
     "cell_type": "code",
     "collapsed": false,
     "input": [
      "E2 = 0.5 * G * m**2 / a"
     ],
     "language": "python",
     "metadata": {},
     "outputs": [],
     "prompt_number": 3
    },
    {
     "cell_type": "code",
     "collapsed": false,
     "input": [
      "print E2, \" J, that traslates into \", E2 * 10**7, \" erg\""
     ],
     "language": "python",
     "metadata": {},
     "outputs": [
      {
       "output_type": "stream",
       "stream": "stdout",
       "text": [
        "8.89333333333e+41  J, that traslates into  8.89333333333e+48  erg\n"
       ]
      }
     ],
     "prompt_number": 4
    },
    {
     "cell_type": "markdown",
     "metadata": {},
     "source": [
      "So there might be something wrong or it may be just the approximation effect... \n",
      "Let's try to find the $a$ for E1"
     ]
    },
    {
     "cell_type": "code",
     "collapsed": false,
     "input": [
      "a = G * m / sigma**2"
     ],
     "language": "python",
     "metadata": {},
     "outputs": [],
     "prompt_number": 5
    },
    {
     "cell_type": "code",
     "collapsed": false,
     "input": [
      "print a, \" m that traslates into \", a / (150 * 10**6), \" AU\""
     ],
     "language": "python",
     "metadata": {},
     "outputs": [
      {
       "output_type": "stream",
       "stream": "stdout",
       "text": [
        "1.334e+12  m that traslates into  8893.33333333  AU\n"
       ]
      }
     ],
     "prompt_number": 6
    },
    {
     "cell_type": "code",
     "collapsed": false,
     "input": [
      " "
     ],
     "language": "python",
     "metadata": {},
     "outputs": []
    }
   ],
   "metadata": {}
  }
 ]
}